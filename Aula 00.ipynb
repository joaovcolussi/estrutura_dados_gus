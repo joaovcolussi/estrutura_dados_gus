{
 "cells": [
  {
   "cell_type": "markdown",
   "metadata": {
    "id": "AMqZAc8dfd3S"
   },
   "source": [
    "# Estrutura de Dados\n",
    "### 3º ADS - Prof. Me. Gustavo Marttos\n",
    "\n",
    "\n",
    "# Recapitulando...\n",
    "\n",
    "- Nivelamento em Python\n",
    "  - Tipos de estruturas de dados existentes\n",
    "    - Listas\n",
    "    - Dicionários\n",
    "    - Tuplas\n",
    "    - Conjuntos\n",
    "    - etc.\n",
    "  - Objetos"
   ]
  },
  {
   "cell_type": "markdown",
   "metadata": {
    "id": "kk94YY6TgEyH"
   },
   "source": [
    "## Nivelamento em Python\n",
    "\n",
    "Qual será o resultado do código abaixo?"
   ]
  },
  {
   "cell_type": "code",
   "execution_count": 3,
   "metadata": {
    "id": "4OfuiArtfZnP"
   },
   "outputs": [
    {
     "name": "stdout",
     "output_type": "stream",
     "text": [
      "[1, 2, 3, 4, [5, 6]]\n"
     ]
    }
   ],
   "source": [
    "lista = [1, 2, 3, 4]\n",
    "lista.append([5, 6])\n",
    "\n",
    "print(lista)"
   ]
  },
  {
   "cell_type": "markdown",
   "metadata": {
    "id": "GmZjiDXRhit8"
   },
   "source": [
    "E agora?"
   ]
  },
  {
   "cell_type": "code",
   "execution_count": 4,
   "metadata": {
    "id": "CPuZq1kbhicq"
   },
   "outputs": [
    {
     "name": "stdout",
     "output_type": "stream",
     "text": [
      "[1, 2, 3, 4, 5, 6]\n"
     ]
    }
   ],
   "source": [
    "lista = [1, 2, 3, 4]\n",
    "lista += [5, 6]\n",
    "\n",
    "print(lista)"
   ]
  },
  {
   "cell_type": "markdown",
   "metadata": {
    "id": "I38K_0Muhr42"
   },
   "source": [
    "Qual a diferença do uso do `append` para o uso do `+=`?\n",
    "\n",
    "Qual método de `list` pode ser associado ao `+=`?"
   ]
  },
  {
   "cell_type": "code",
   "execution_count": 5,
   "metadata": {
    "id": "Ur12tRZih0dq"
   },
   "outputs": [
    {
     "name": "stdout",
     "output_type": "stream",
     "text": [
      "[1, 2, 3, 4, 5, 6]\n"
     ]
    }
   ],
   "source": [
    "lista = [1, 2, 3, 4]\n",
    "lista.extend([5, 6])\n",
    "\n",
    "print(lista)"
   ]
  },
  {
   "cell_type": "markdown",
   "metadata": {
    "id": "yuEugt6OiLlE"
   },
   "source": [
    "Para remover um elemento de uma lista utilizam-se duas opções:\n",
    "\n",
    "1. Por indexação ou o último elemento (pop); ou\n",
    "2. Pela busca da primeira ocorrência do valor (remove)."
   ]
  },
  {
   "cell_type": "code",
   "execution_count": null,
   "metadata": {
    "id": "2roHk8O7id-a"
   },
   "outputs": [],
   "source": [
    "lista = [\"João\", \"Guilherme\", \"Maria\", \"Adamastor\", \"Joelma\"]\n",
    "\n",
    "lista_pop = lista[:]  # Faz cópia de lista.\n",
    "elemento = lista_pop.pop()\n",
    "print(elemento, lista_pop)\n",
    "\n",
    "elemento = lista_pop.pop(1)\n",
    "print(elemento, lista_pop)"
   ]
  },
  {
   "cell_type": "code",
   "execution_count": null,
   "metadata": {
    "id": "QAPO94qwjNbJ"
   },
   "outputs": [],
   "source": [
    "lista = [\"A\", \"A\", \"B\", \"D\", \"E\", \"A\", \"C\", \"C\", \"A\", \"D\"]\n",
    "\n",
    "lista.remove(\"D\")\n",
    "\n",
    "print(lista)"
   ]
  },
  {
   "cell_type": "markdown",
   "metadata": {
    "id": "MNqjJ1Npjx4u"
   },
   "source": [
    "### Compreensão de Listas (List Comprehension)\n",
    "\n",
    "```python\n",
    "[expr for item in lista]\n",
    "```\n",
    "\n",
    "**Estrutura:** aplique a expressão `expr` em cada `item` da `lista`."
   ]
  },
  {
   "cell_type": "code",
   "execution_count": null,
   "metadata": {
    "id": "1o_5tHjTkXxh"
   },
   "outputs": [],
   "source": [
    "multiplos = []\n",
    "\n",
    "for numero in range(10):\n",
    "  multiplos.append(numero * 2)\n",
    "\n",
    "print(multiplos)"
   ]
  },
  {
   "cell_type": "code",
   "execution_count": null,
   "metadata": {
    "id": "_c3oBK7EklOi"
   },
   "outputs": [],
   "source": [
    "multiplos = [numero * 2 for numero in range(10)]\n",
    "print(multiplos)"
   ]
  },
  {
   "cell_type": "code",
   "execution_count": null,
   "metadata": {
    "id": "xX_AQSk1k6yH"
   },
   "outputs": [],
   "source": [
    "nomes = [\"paulo\", \"ana\", \"carlos\", \"roberta\", \"mônica\", \"sérgio\"]\n",
    "nomes = [str(nome).capitalize() for nome in nomes]\n",
    "\n",
    "print(nomes)"
   ]
  },
  {
   "cell_type": "markdown",
   "metadata": {
    "id": "CDO6BYqLmClz"
   },
   "source": [
    "```python\n",
    "[expr for item in lista if condicao]\n",
    "```\n",
    "\n",
    "**Estrutura:** aplique a expressão `expr` em cada `item` da `lista`, caso a condição `condicao` seja verdadeira."
   ]
  },
  {
   "cell_type": "code",
   "execution_count": null,
   "metadata": {
    "id": "5-Lr_wyXlWYt"
   },
   "outputs": [],
   "source": [
    "numeros = range(50)\n",
    "pares = [numero for numero in numeros if numero % 2 == 0]\n",
    "\n",
    "print(pares)"
   ]
  },
  {
   "cell_type": "code",
   "execution_count": null,
   "metadata": {
    "id": "ef1zG72ilopV"
   },
   "outputs": [],
   "source": [
    "numeros = range(100)\n",
    "multiplos_3_5 = [numero for numero in numeros if numero % 3 == 0 if numero % 5 == 0]\n",
    "\n",
    "print(multiplos_3_5)"
   ]
  },
  {
   "cell_type": "markdown",
   "metadata": {
    "id": "ncWl-gOqmaZQ"
   },
   "source": [
    "```python\n",
    "[resultado_if if expr else resultado_else for item in lista]\n",
    "```\n",
    "\n",
    "**Estrutura:** para cada `item` da `lista` aplique o resultado `resultado_if` se a expressão `expr` for verdadeira, caso contrário aplique `resultado_else`."
   ]
  },
  {
   "cell_type": "code",
   "execution_count": null,
   "metadata": {
    "id": "lcUDc9Ugmusk"
   },
   "outputs": [],
   "source": [
    "numeros = [\"par\" if numero % 2 == 0 else \"ímpar\" for numero in range(20)]\n",
    "\n",
    "print(numeros)"
   ]
  },
  {
   "cell_type": "markdown",
   "metadata": {
    "id": "mvAnIXzynLIE"
   },
   "source": [
    "### Exercício Base\n",
    "\n",
    "Uma matriz transporta é aquela que teve suas linhas transformadas em colunas (ou vice-versa).\n",
    "\n",
    "![image](https://digitalcomputerprogramming.com/wp-content/uploads/2024/07/matriz_transposta-webp.webp)\n",
    "\n",
    "Utilizando a estrutura de repetição convencional `for` (sem comprehension), faça a transposição da seguinte matriz:\n",
    "\n",
    "```python\n",
    "matriz = [\n",
    "  [1, 2, 3],\n",
    "  [4, 5, 6],\n",
    "]\n",
    "```\n",
    "\n",
    "**Resultado esperado:**\n",
    "\n",
    "```python\n",
    "[\n",
    "  [1, 4],\n",
    "  [2, 5],\n",
    "  [3, 6],\n",
    "]\n",
    "```"
   ]
  },
  {
   "cell_type": "code",
   "execution_count": 20,
   "metadata": {
    "colab": {
     "base_uri": "https://localhost:8080/"
    },
    "id": "qDlqgJ-7nySL",
    "outputId": "8da1ab9c-3acf-46bd-9002-b52fa30ecd43"
   },
   "outputs": [
    {
     "name": "stdout",
     "output_type": "stream",
     "text": [
      "[[1, 4], [2, 5], [3, 6]]\n"
     ]
    }
   ],
   "source": [
    "matriz = [\n",
    "  [1, 2, 3],\n",
    "  [4, 5, 6],\n",
    "]\n",
    "\n",
    "transposta = []\n",
    "\n",
    "for linha in range(len(matriz[0])):\n",
    "  linha_transposta = []\n",
    "\n",
    "  for coluna in matriz:\n",
    "    linha_transposta.append(coluna[linha])\n",
    "\n",
    "  transposta.append(linha_transposta)\n",
    "\n",
    "print(transposta)"
   ]
  },
  {
   "cell_type": "markdown",
   "metadata": {
    "id": "kDWnpx6Iou7y"
   },
   "source": [
    "Como você reescreveria o código acima usando comprehension?"
   ]
  },
  {
   "cell_type": "code",
   "execution_count": 22,
   "metadata": {
    "colab": {
     "base_uri": "https://localhost:8080/"
    },
    "id": "WTx2UkWipx7n",
    "outputId": "029a4feb-086b-4e62-a103-933c63a53486"
   },
   "outputs": [
    {
     "name": "stdout",
     "output_type": "stream",
     "text": [
      "[[1, 4], [2, 5], [3, 6]]\n"
     ]
    }
   ],
   "source": [
    "matriz = [\n",
    "  [1, 2, 3],\n",
    "  [4, 5, 6],\n",
    "]\n",
    "\n",
    "transposta = [[coluna[linha] for coluna in matriz] for linha in range(len(matriz[0]))]\n",
    "\n",
    "print(transposta)"
   ]
  },
  {
   "cell_type": "markdown",
   "metadata": {
    "id": "kBcoEfuIqva3"
   },
   "source": [
    "Entendendo passo a passo:\n",
    "\n",
    "1. O primeiro `for` é o que contém a expressão `linha in range(len(matriz[0]))`.\n",
    "  - Ou seja, para cada `linha` no intervalo (`range`) cujo tamanho (`len`) seja obtido em `matriz[0]`.\n",
    "2. Cada loop desse primeiro for terá como resultado uma lista `[...]`.\n",
    "3. Essa lista, enquanto resultado de cada iteração, é representada por uma segunda comprehension.\n",
    "  - Retorne `coluna[linha]` para cada `coluna` in `matriz`.\n",
    "  - `linha`existe, pois está no primeiro `for`.\n",
    "4. Sabendo que `range(len(matriz[0]))` é o mesmo que um intervalo de 0 a 3, onde o 3 **não é incluído**, então o primeiro `for` terá 3 iterações.\n",
    "5. A primeira iteração será o mesmo que `[coluna[0] for coluna in matriz]`.\n",
    "  - O segundo `for` fará com que cada elemento de `matriz` seja lido e tenha o valor de índice zero retornado.\n",
    "  - Como resultado, retornará `[1, 4]`.\n",
    "6. A segunda iteração será o mesmo que `[coluna[1] for coluna in matriz]`.\n",
    "  - `matriz` será iterada a partir do índice um.\n",
    "  - Como resultado, retornará `[2, 5]`.\n",
    "7. A terceira iteração será o mesmo que `[coluna[2] for coluna in matriz]`.\n",
    "  - `matriz` será iterada a partir do índice dois.\n",
    "  - Como resultado, retornará `[3, 6]`."
   ]
  },
  {
   "cell_type": "markdown",
   "metadata": {
    "id": "d5rYFAGttyh5"
   },
   "source": [
    "### Exercícios\n",
    "\n",
    "Resolva os exercícios abaixo utilizando a estrutura de `for` convencional e também com `list comprehension`, quando possível.\n",
    "\n",
    "\n",
    "**Exercício 1:**\n",
    "\n",
    "Dada a lista abaixo, remova os elementos duplicados:\n",
    "```python\n",
    "numeros = [1, 3, 5, 3, 7, 9, 1, 5, 9, 11]\n",
    "```\n",
    "\n",
    "**Exercício 2:**\n",
    "\n",
    "Uma avaliação tem o seguinte gabarito para 10 questões: A-B-B-C-E-D-D-E-C-B\n",
    "\n",
    "Cada questão vale 1 ponto. Considerando o gabarito dos seguintes alunos, utilize a estrutura de repetição e conhecimentos em lista para informar quantos pontos cada aluno acertou.\n",
    "\n",
    "- Lara: B-B-A-E-E-C-D-A-C-D\n",
    "- Marcos: D-B-B-C-A-E-B-A-C-A\n",
    "\n",
    "**Exercício 3:**\n",
    "\n",
    "Filtre somente as palavras que são palíndromas.\n",
    "```python\n",
    "palavras = [\"arara\", \"python\", \"ana\", \"radar\", \"aula\", \"nivel\"]\n",
    "```\n",
    "\n",
    "**Exercício 4:**\n",
    "Remova todos os elementos que estejam nos índices ímpares da lista.\n",
    "```python\n",
    "lista = [\"a\", \"b\", \"c\", \"d\", \"e\", \"f\", \"g\", \"h\", \"i\", \"j\"]\n",
    "```\n",
    "\n",
    "**Exercício 5:**\n",
    "Transforme uma lista de listas em uma única lista com todos os elementos.\n",
    "\n",
    "Exemplo:\n",
    "```python\n",
    "Entrada: [[1, 2], [3, 4], [5, 6]]\n",
    "Saída: [1, 2, 3, 4, 5, 6]\n",
    "```\n",
    "\n",
    "**Exercício 6:**\n",
    "Inverta os elementos de uma lista sem utilizar o método `reverse`.\n",
    "```python\n",
    "[1, 2, 3, 4, 5, 6, 7, 8, 9]\n",
    "```"
   ]
  }
 ],
 "metadata": {
  "colab": {
   "provenance": []
  },
  "kernelspec": {
   "display_name": "Python 3",
   "name": "python3"
  },
  "language_info": {
   "codemirror_mode": {
    "name": "ipython",
    "version": 3
   },
   "file_extension": ".py",
   "mimetype": "text/x-python",
   "name": "python",
   "nbconvert_exporter": "python",
   "pygments_lexer": "ipython3",
   "version": "3.12.4"
  }
 },
 "nbformat": 4,
 "nbformat_minor": 0
}
